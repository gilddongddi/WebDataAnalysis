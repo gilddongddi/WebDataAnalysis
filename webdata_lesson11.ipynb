{
 "cells": [
  {
   "cell_type": "markdown",
   "id": "62f99120",
   "metadata": {},
   "source": [
    "# 기상청_관광코스별 관광지 상세 날씨 조회서비스"
   ]
  },
  {
   "cell_type": "code",
   "execution_count": 1,
   "id": "31999a33",
   "metadata": {},
   "outputs": [],
   "source": [
    "import requests"
   ]
  },
  {
   "cell_type": "code",
   "execution_count": 2,
   "id": "5c5aca03",
   "metadata": {},
   "outputs": [],
   "source": [
    "key = \"AW4C5aGoQveejXIPxRkC1JqrIZz8fATRuilN0xaoqVOkhtyzOhWYX%2BMNBTFV1c%2FdxDqo6Q4vS2HAoYeomKAlFA%3D%3D\""
   ]
  },
  {
   "cell_type": "code",
   "execution_count": 3,
   "id": "1a8b6b1e",
   "metadata": {},
   "outputs": [],
   "source": [
    "url = \"http://apis.data.go.kr/1360000/TourStnInfoService/getTourStnVilageFcst\""
   ]
  },
  {
   "cell_type": "code",
   "execution_count": 82,
   "id": "ac461345",
   "metadata": {},
   "outputs": [],
   "source": [
    "params ='?'+'numOfRows='+'10'\\\n",
    "'&pageNo='+'1'\\\n",
    "'&CURRENT_DATE='+'2021122010'\\\n",
    "'&HOUR='+'24'\\\n",
    "'&COURSE_ID='+'1'\\\n",
    "'&dataType='+'xml'\\\n",
    "'&serviceKey='+ key\n"
   ]
  },
  {
   "cell_type": "code",
   "execution_count": 83,
   "id": "e6997c4e",
   "metadata": {},
   "outputs": [],
   "source": [
    "url_api=url+params"
   ]
  },
  {
   "cell_type": "code",
   "execution_count": 84,
   "id": "a65fc6a7",
   "metadata": {},
   "outputs": [
    {
     "name": "stdout",
     "output_type": "stream",
     "text": [
      "http://apis.data.go.kr/1360000/TourStnInfoService/getTourStnVilageFcst\n"
     ]
    }
   ],
   "source": [
    "print(url)"
   ]
  },
  {
   "cell_type": "code",
   "execution_count": 85,
   "id": "c45e0b01",
   "metadata": {},
   "outputs": [
    {
     "name": "stdout",
     "output_type": "stream",
     "text": [
      "http://apis.data.go.kr/1360000/TourStnInfoService/getTourStnVilageFcst?numOfRows=10&pageNo=1&CURRENT_DATE=2021122010&HOUR=24&COURSE_ID=1&dataType=xml&serviceKey=AW4C5aGoQveejXIPxRkC1JqrIZz8fATRuilN0xaoqVOkhtyzOhWYX%2BMNBTFV1c%2FdxDqo6Q4vS2HAoYeomKAlFA%3D%3D\n"
     ]
    }
   ],
   "source": [
    "print(url_api)"
   ]
  },
  {
   "cell_type": "code",
   "execution_count": 86,
   "id": "59f56a4e",
   "metadata": {},
   "outputs": [],
   "source": [
    "result = requests.get(url_api)"
   ]
  },
  {
   "cell_type": "code",
   "execution_count": 87,
   "id": "0b48930e",
   "metadata": {},
   "outputs": [
    {
     "name": "stdout",
     "output_type": "stream",
     "text": [
      "b'<?xml version=\"1.0\" encoding=\"UTF-8\"?>\\r\\n<response><header><resultCode>00</resultCode><resultMsg>NORMAL_SERVICE</resultMsg></header><body><dataType>XML</dataType><items><item><tm>2021-12-22 09:00</tm><thema>\\xeb\\xac\\xb8\\xed\\x99\\x94/\\xec\\x98\\x88\\xec\\x88\\xa0</thema><courseId>1</courseId><courseAreaId>4700000000</courseAreaId><courseAreaName>\\xea\\xb2\\xbd\\xec\\x83\\x81\\xeb\\xb6\\x81\\xeb\\x8f\\x84</courseAreaName><courseName>\\xeb\\x82\\xa8\\xed\\x98\\xb8\\xea\\xb3\\xa0\\xed\\x83\\x9d\\xec\\x97\\x90\\xec\\x84\\x9c\\xec\\x9d\\x98 \\xed\\x95\\x98\\xeb\\xa3\\xbb\\xeb\\xb0\\xa4</courseName><spotAreaId>102</spotAreaId><spotAreaName>\\xeb\\xb4\\x89\\xed\\x99\\x94</spotAreaName><spotName>(\\xeb\\xb4\\x89\\xed\\x99\\x94)\\xec\\xb6\\x98\\xec\\x96\\x91\\xeb\\xaa\\xa9 \\xec\\x86\\xa1\\xec\\x9d\\xb4\\xeb\\xa7\\x88\\xec\\x9d\\x84</spotName><th3>-2</th3><wd>45</wd><ws>2</ws><sky>1</sky><rhm>80</rhm><pop>0</pop></item><item><tm>2021-12-22 09:00</tm><thema>\\xec\\xa2\\x85\\xea\\xb5\\x90/\\xec\\x97\\xad\\xec\\x82\\xac/\\xec\\xa0\\x84\\xed\\x86\\xb5</thema><courseId>1</courseId><courseAreaId>4700000000</courseAreaId><courseAreaName>\\xea\\xb2\\xbd\\xec\\x83\\x81\\xeb\\xb6\\x81\\xeb\\x8f\\x84</courseAreaName><courseName>\\xeb\\x82\\xa8\\xed\\x98\\xb8\\xea\\xb3\\xa0\\xed\\x83\\x9d\\xec\\x97\\x90\\xec\\x84\\x9c\\xec\\x9d\\x98 \\xed\\x95\\x98\\xeb\\xa3\\xbb\\xeb\\xb0\\xa4</courseName><spotAreaId>104</spotAreaId><spotAreaName>\\xeb\\xb4\\x89\\xed\\x99\\x94</spotAreaName><spotName>(\\xeb\\xb4\\x89\\xed\\x99\\x94)\\xea\\xb3\\x84\\xec\\x84\\x9c\\xeb\\x8b\\xb9(\\xec\\x84\\xb1\\xec\\x9d\\xb4\\xec\\x84\\xb1 \\xec\\x83\\x9d\\xea\\xb0\\x80)</spotName><th3>0</th3><wd>41</wd><ws>2</ws><sky>1</sky><rhm>75</rhm><pop>0</pop></item><item><tm>2021-12-22 09:00</tm><thema>\\xec\\x9e\\x90\\xec\\x97\\xb0/\\xed\\x9e\\x90\\xeb\\xa7\\x81</thema><courseId>1</courseId><courseAreaId>4700000000</courseAreaId><courseAreaName>\\xea\\xb2\\xbd\\xec\\x83\\x81\\xeb\\xb6\\x81\\xeb\\x8f\\x84</courseAreaName><courseName>\\xeb\\x82\\xa8\\xed\\x98\\xb8\\xea\\xb3\\xa0\\xed\\x83\\x9d\\xec\\x97\\x90\\xec\\x84\\x9c\\xec\\x9d\\x98 \\xed\\x95\\x98\\xeb\\xa3\\xbb\\xeb\\xb0\\xa4</courseName><spotAreaId>104</spotAreaId><spotAreaName>\\xeb\\xb4\\x89\\xed\\x99\\x94</spotAreaName><spotName>(\\xeb\\xb4\\x89\\xed\\x99\\x94)\\xea\\xb3\\x84\\xec\\x84\\x9c\\xeb\\x8b\\xb9(\\xec\\x84\\xb1\\xec\\x9d\\xb4\\xec\\x84\\xb1 \\xec\\x83\\x9d\\xea\\xb0\\x80)</spotName><th3>0</th3><wd>41</wd><ws>2</ws><sky>1</sky><rhm>75</rhm><pop>0</pop></item><item><tm>2021-12-22 09:00</tm><thema>\\xec\\xb2\\xb4\\xed\\x97\\x98/\\xed\\x95\\x99\\xec\\x8a\\xb5/\\xec\\x82\\xb0\\xec\\x97\\x85</thema><courseId>1</courseId><courseAreaId>4700000000</courseAreaId><courseAreaName>\\xea\\xb2\\xbd\\xec\\x83\\x81\\xeb\\xb6\\x81\\xeb\\x8f\\x84</courseAreaName><courseName>\\xeb\\x82\\xa8\\xed\\x98\\xb8\\xea\\xb3\\xa0\\xed\\x83\\x9d\\xec\\x97\\x90\\xec\\x84\\x9c\\xec\\x9d\\x98 \\xed\\x95\\x98\\xeb\\xa3\\xbb\\xeb\\xb0\\xa4</courseName><spotAreaId>104</spotAreaId><spotAreaName>\\xeb\\xb4\\x89\\xed\\x99\\x94</spotAreaName><spotName>(\\xeb\\xb4\\x89\\xed\\x99\\x94)\\xea\\xb3\\x84\\xec\\x84\\x9c\\xeb\\x8b\\xb9(\\xec\\x84\\xb1\\xec\\x9d\\xb4\\xec\\x84\\xb1 \\xec\\x83\\x9d\\xea\\xb0\\x80)</spotName><th3>0</th3><wd>41</wd><ws>2</ws><sky>1</sky><rhm>75</rhm><pop>0</pop></item><item><tm>2021-12-22 09:00</tm><thema>\\xeb\\xac\\xb8\\xed\\x99\\x94/\\xec\\x98\\x88\\xec\\x88\\xa0</thema><courseId>1</courseId><courseAreaId>4700000000</courseAreaId><courseAreaName>\\xea\\xb2\\xbd\\xec\\x83\\x81\\xeb\\xb6\\x81\\xeb\\x8f\\x84</courseAreaName><courseName>\\xeb\\x82\\xa8\\xed\\x98\\xb8\\xea\\xb3\\xa0\\xed\\x83\\x9d\\xec\\x97\\x90\\xec\\x84\\x9c\\xec\\x9d\\x98 \\xed\\x95\\x98\\xeb\\xa3\\xbb\\xeb\\xb0\\xa4</courseName><spotAreaId>103</spotAreaId><spotAreaName>\\xeb\\xb4\\x89\\xed\\x99\\x94</spotAreaName><spotName>(\\xeb\\xb4\\x89\\xed\\x99\\x94)\\xec\\xa7\\x80\\xeb\\xa6\\xbc\\xec\\x82\\xac</spotName><th3>0</th3><wd>43</wd><ws>2</ws><sky>1</sky><rhm>75</rhm><pop>0</pop></item><item><tm>2021-12-22 09:00</tm><thema>\\xec\\xa2\\x85\\xea\\xb5\\x90/\\xec\\x97\\xad\\xec\\x82\\xac/\\xec\\xa0\\x84\\xed\\x86\\xb5</thema><courseId>1</courseId><courseAreaId>4700000000</courseAreaId><courseAreaName>\\xea\\xb2\\xbd\\xec\\x83\\x81\\xeb\\xb6\\x81\\xeb\\x8f\\x84</courseAreaName><courseName>\\xeb\\x82\\xa8\\xed\\x98\\xb8\\xea\\xb3\\xa0\\xed\\x83\\x9d\\xec\\x97\\x90\\xec\\x84\\x9c\\xec\\x9d\\x98 \\xed\\x95\\x98\\xeb\\xa3\\xbb\\xeb\\xb0\\xa4</courseName><spotAreaId>103</spotAreaId><spotAreaName>\\xeb\\xb4\\x89\\xed\\x99\\x94</spotAreaName><spotName>(\\xeb\\xb4\\x89\\xed\\x99\\x94)\\xec\\xa7\\x80\\xeb\\xa6\\xbc\\xec\\x82\\xac</spotName><th3>0</th3><wd>43</wd><ws>2</ws><sky>1</sky><rhm>75</rhm><pop>0</pop></item><item><tm>2021-12-22 09:00</tm><thema>\\xec\\x9e\\x90\\xec\\x97\\xb0/\\xed\\x9e\\x90\\xeb\\xa7\\x81</thema><courseId>1</courseId><courseAreaId>4700000000</courseAreaId><courseAreaName>\\xea\\xb2\\xbd\\xec\\x83\\x81\\xeb\\xb6\\x81\\xeb\\x8f\\x84</courseAreaName><courseName>\\xeb\\x82\\xa8\\xed\\x98\\xb8\\xea\\xb3\\xa0\\xed\\x83\\x9d\\xec\\x97\\x90\\xec\\x84\\x9c\\xec\\x9d\\x98 \\xed\\x95\\x98\\xeb\\xa3\\xbb\\xeb\\xb0\\xa4</courseName><spotAreaId>103</spotAreaId><spotAreaName>\\xeb\\xb4\\x89\\xed\\x99\\x94</spotAreaName><spotName>(\\xeb\\xb4\\x89\\xed\\x99\\x94)\\xec\\xa7\\x80\\xeb\\xa6\\xbc\\xec\\x82\\xac</spotName><th3>0</th3><wd>43</wd><ws>2</ws><sky>1</sky><rhm>75</rhm><pop>0</pop></item><item><tm>2021-12-22 09:00</tm><thema>\\xec\\xb2\\xb4\\xed\\x97\\x98/\\xed\\x95\\x99\\xec\\x8a\\xb5/\\xec\\x82\\xb0\\xec\\x97\\x85</thema><courseId>1</courseId><courseAreaId>4700000000</courseAreaId><courseAreaName>\\xea\\xb2\\xbd\\xec\\x83\\x81\\xeb\\xb6\\x81\\xeb\\x8f\\x84</courseAreaName><courseName>\\xeb\\x82\\xa8\\xed\\x98\\xb8\\xea\\xb3\\xa0\\xed\\x83\\x9d\\xec\\x97\\x90\\xec\\x84\\x9c\\xec\\x9d\\x98 \\xed\\x95\\x98\\xeb\\xa3\\xbb\\xeb\\xb0\\xa4</courseName><spotAreaId>103</spotAreaId><spotAreaName>\\xeb\\xb4\\x89\\xed\\x99\\x94</spotAreaName><spotName>(\\xeb\\xb4\\x89\\xed\\x99\\x94)\\xec\\xa7\\x80\\xeb\\xa6\\xbc\\xec\\x82\\xac</spotName><th3>0</th3><wd>43</wd><ws>2</ws><sky>1</sky><rhm>75</rhm><pop>0</pop></item><item><tm>2021-12-22 09:00</tm><thema>\\xeb\\xac\\xb8\\xed\\x99\\x94/\\xec\\x98\\x88\\xec\\x88\\xa0</thema><courseId>1</courseId><courseAreaId>4700000000</courseAreaId><courseAreaName>\\xea\\xb2\\xbd\\xec\\x83\\x81\\xeb\\xb6\\x81\\xeb\\x8f\\x84</courseAreaName><courseName>\\xeb\\x82\\xa8\\xed\\x98\\xb8\\xea\\xb3\\xa0\\xed\\x83\\x9d\\xec\\x97\\x90\\xec\\x84\\x9c\\xec\\x9d\\x98 \\xed\\x95\\x98\\xeb\\xa3\\xbb\\xeb\\xb0\\xa4</courseName><spotAreaId>104</spotAreaId><spotAreaName>\\xeb\\xb4\\x89\\xed\\x99\\x94</spotAreaName><spotName>(\\xeb\\xb4\\x89\\xed\\x99\\x94)\\xea\\xb3\\x84\\xec\\x84\\x9c\\xeb\\x8b\\xb9(\\xec\\x84\\xb1\\xec\\x9d\\xb4\\xec\\x84\\xb1 \\xec\\x83\\x9d\\xea\\xb0\\x80)</spotName><th3>0</th3><wd>41</wd><ws>2</ws><sky>1</sky><rhm>75</rhm><pop>0</pop></item><item><tm>2021-12-22 09:00</tm><thema>\\xec\\xa2\\x85\\xea\\xb5\\x90/\\xec\\x97\\xad\\xec\\x82\\xac/\\xec\\xa0\\x84\\xed\\x86\\xb5</thema><courseId>1</courseId><courseAreaId>4700000000</courseAreaId><courseAreaName>\\xea\\xb2\\xbd\\xec\\x83\\x81\\xeb\\xb6\\x81\\xeb\\x8f\\x84</courseAreaName><courseName>\\xeb\\x82\\xa8\\xed\\x98\\xb8\\xea\\xb3\\xa0\\xed\\x83\\x9d\\xec\\x97\\x90\\xec\\x84\\x9c\\xec\\x9d\\x98 \\xed\\x95\\x98\\xeb\\xa3\\xbb\\xeb\\xb0\\xa4</courseName><spotAreaId>102</spotAreaId><spotAreaName>\\xeb\\xb4\\x89\\xed\\x99\\x94</spotAreaName><spotName>(\\xeb\\xb4\\x89\\xed\\x99\\x94)\\xec\\xb6\\x98\\xec\\x96\\x91\\xeb\\xaa\\xa9 \\xec\\x86\\xa1\\xec\\x9d\\xb4\\xeb\\xa7\\x88\\xec\\x9d\\x84</spotName><th3>-2</th3><wd>45</wd><ws>2</ws><sky>1</sky><rhm>80</rhm><pop>0</pop></item></items><numOfRows>10</numOfRows><pageNo>1</pageNo><totalCount>256</totalCount></body></response>\\r\\n'\n"
     ]
    }
   ],
   "source": [
    "print(result.content)"
   ]
  },
  {
   "cell_type": "code",
   "execution_count": 88,
   "id": "a2f5c08f",
   "metadata": {},
   "outputs": [],
   "source": [
    "contents=result.text"
   ]
  },
  {
   "cell_type": "code",
   "execution_count": 89,
   "id": "c502791b",
   "metadata": {},
   "outputs": [],
   "source": [
    "from bs4 import BeautifulSoup"
   ]
  },
  {
   "cell_type": "code",
   "execution_count": 90,
   "id": "89f24780",
   "metadata": {},
   "outputs": [],
   "source": [
    "soup=BeautifulSoup(contents, \"html.parser\")"
   ]
  },
  {
   "cell_type": "code",
   "execution_count": 91,
   "id": "351b8596",
   "metadata": {},
   "outputs": [
    {
     "data": {
      "text/plain": [
       "<?xml version=\"1.0\" encoding=\"UTF-8\"?>\n",
       "<response><header><resultcode>00</resultcode><resultmsg>NORMAL_SERVICE</resultmsg></header><body><datatype>XML</datatype><items><item><tm>2021-12-22 09:00</tm><thema>문화/예술</thema><courseid>1</courseid><courseareaid>4700000000</courseareaid><courseareaname>경상북도</courseareaname><coursename>남호고택에서의 하룻밤</coursename><spotareaid>102</spotareaid><spotareaname>봉화</spotareaname><spotname>(봉화)춘양목 송이마을</spotname><th3>-2</th3><wd>45</wd><ws>2</ws><sky>1</sky><rhm>80</rhm><pop>0</pop></item><item><tm>2021-12-22 09:00</tm><thema>종교/역사/전통</thema><courseid>1</courseid><courseareaid>4700000000</courseareaid><courseareaname>경상북도</courseareaname><coursename>남호고택에서의 하룻밤</coursename><spotareaid>104</spotareaid><spotareaname>봉화</spotareaname><spotname>(봉화)계서당(성이성 생가)</spotname><th3>0</th3><wd>41</wd><ws>2</ws><sky>1</sky><rhm>75</rhm><pop>0</pop></item><item><tm>2021-12-22 09:00</tm><thema>자연/힐링</thema><courseid>1</courseid><courseareaid>4700000000</courseareaid><courseareaname>경상북도</courseareaname><coursename>남호고택에서의 하룻밤</coursename><spotareaid>104</spotareaid><spotareaname>봉화</spotareaname><spotname>(봉화)계서당(성이성 생가)</spotname><th3>0</th3><wd>41</wd><ws>2</ws><sky>1</sky><rhm>75</rhm><pop>0</pop></item><item><tm>2021-12-22 09:00</tm><thema>체험/학습/산업</thema><courseid>1</courseid><courseareaid>4700000000</courseareaid><courseareaname>경상북도</courseareaname><coursename>남호고택에서의 하룻밤</coursename><spotareaid>104</spotareaid><spotareaname>봉화</spotareaname><spotname>(봉화)계서당(성이성 생가)</spotname><th3>0</th3><wd>41</wd><ws>2</ws><sky>1</sky><rhm>75</rhm><pop>0</pop></item><item><tm>2021-12-22 09:00</tm><thema>문화/예술</thema><courseid>1</courseid><courseareaid>4700000000</courseareaid><courseareaname>경상북도</courseareaname><coursename>남호고택에서의 하룻밤</coursename><spotareaid>103</spotareaid><spotareaname>봉화</spotareaname><spotname>(봉화)지림사</spotname><th3>0</th3><wd>43</wd><ws>2</ws><sky>1</sky><rhm>75</rhm><pop>0</pop></item><item><tm>2021-12-22 09:00</tm><thema>종교/역사/전통</thema><courseid>1</courseid><courseareaid>4700000000</courseareaid><courseareaname>경상북도</courseareaname><coursename>남호고택에서의 하룻밤</coursename><spotareaid>103</spotareaid><spotareaname>봉화</spotareaname><spotname>(봉화)지림사</spotname><th3>0</th3><wd>43</wd><ws>2</ws><sky>1</sky><rhm>75</rhm><pop>0</pop></item><item><tm>2021-12-22 09:00</tm><thema>자연/힐링</thema><courseid>1</courseid><courseareaid>4700000000</courseareaid><courseareaname>경상북도</courseareaname><coursename>남호고택에서의 하룻밤</coursename><spotareaid>103</spotareaid><spotareaname>봉화</spotareaname><spotname>(봉화)지림사</spotname><th3>0</th3><wd>43</wd><ws>2</ws><sky>1</sky><rhm>75</rhm><pop>0</pop></item><item><tm>2021-12-22 09:00</tm><thema>체험/학습/산업</thema><courseid>1</courseid><courseareaid>4700000000</courseareaid><courseareaname>경상북도</courseareaname><coursename>남호고택에서의 하룻밤</coursename><spotareaid>103</spotareaid><spotareaname>봉화</spotareaname><spotname>(봉화)지림사</spotname><th3>0</th3><wd>43</wd><ws>2</ws><sky>1</sky><rhm>75</rhm><pop>0</pop></item><item><tm>2021-12-22 09:00</tm><thema>문화/예술</thema><courseid>1</courseid><courseareaid>4700000000</courseareaid><courseareaname>경상북도</courseareaname><coursename>남호고택에서의 하룻밤</coursename><spotareaid>104</spotareaid><spotareaname>봉화</spotareaname><spotname>(봉화)계서당(성이성 생가)</spotname><th3>0</th3><wd>41</wd><ws>2</ws><sky>1</sky><rhm>75</rhm><pop>0</pop></item><item><tm>2021-12-22 09:00</tm><thema>종교/역사/전통</thema><courseid>1</courseid><courseareaid>4700000000</courseareaid><courseareaname>경상북도</courseareaname><coursename>남호고택에서의 하룻밤</coursename><spotareaid>102</spotareaid><spotareaname>봉화</spotareaname><spotname>(봉화)춘양목 송이마을</spotname><th3>-2</th3><wd>45</wd><ws>2</ws><sky>1</sky><rhm>80</rhm><pop>0</pop></item></items><numofrows>10</numofrows><pageno>1</pageno><totalcount>256</totalcount></body></response>"
      ]
     },
     "execution_count": 91,
     "metadata": {},
     "output_type": "execute_result"
    }
   ],
   "source": [
    "soup"
   ]
  },
  {
   "cell_type": "code",
   "execution_count": 92,
   "id": "7ff7551a",
   "metadata": {},
   "outputs": [],
   "source": [
    "tour_List=[]"
   ]
  },
  {
   "cell_type": "code",
   "execution_count": 93,
   "id": "69853169",
   "metadata": {},
   "outputs": [],
   "source": [
    "for item in soup.find_all('item'):\n",
    "    spotName=item.find('spotname').text\n",
    "    w=item.find('th3').text\n",
    "    tour_List.append([spotName, w])"
   ]
  },
  {
   "cell_type": "code",
   "execution_count": 94,
   "id": "07041bd7",
   "metadata": {},
   "outputs": [],
   "source": [
    "import pandas as pd"
   ]
  },
  {
   "cell_type": "code",
   "execution_count": 95,
   "id": "88d00456",
   "metadata": {},
   "outputs": [],
   "source": [
    "tour_df=pd.DataFrame(tour_List, columns=['관광지명', '일3시간 온도'])"
   ]
  },
  {
   "cell_type": "code",
   "execution_count": 117,
   "id": "445f0621",
   "metadata": {},
   "outputs": [],
   "source": [
    "tour_df2=pd.DataFrame(tour_List)"
   ]
  },
  {
   "cell_type": "code",
   "execution_count": 118,
   "id": "a1ae1c26",
   "metadata": {},
   "outputs": [
    {
     "data": {
      "text/html": [
       "<div>\n",
       "<style scoped>\n",
       "    .dataframe tbody tr th:only-of-type {\n",
       "        vertical-align: middle;\n",
       "    }\n",
       "\n",
       "    .dataframe tbody tr th {\n",
       "        vertical-align: top;\n",
       "    }\n",
       "\n",
       "    .dataframe thead th {\n",
       "        text-align: right;\n",
       "    }\n",
       "</style>\n",
       "<table border=\"1\" class=\"dataframe\">\n",
       "  <thead>\n",
       "    <tr style=\"text-align: right;\">\n",
       "      <th></th>\n",
       "      <th>0</th>\n",
       "      <th>1</th>\n",
       "    </tr>\n",
       "  </thead>\n",
       "  <tbody>\n",
       "    <tr>\n",
       "      <th>0</th>\n",
       "      <td>(봉화)춘양목 송이마을</td>\n",
       "      <td>-2</td>\n",
       "    </tr>\n",
       "    <tr>\n",
       "      <th>1</th>\n",
       "      <td>(봉화)계서당(성이성 생가)</td>\n",
       "      <td>0</td>\n",
       "    </tr>\n",
       "    <tr>\n",
       "      <th>2</th>\n",
       "      <td>(봉화)계서당(성이성 생가)</td>\n",
       "      <td>0</td>\n",
       "    </tr>\n",
       "    <tr>\n",
       "      <th>3</th>\n",
       "      <td>(봉화)계서당(성이성 생가)</td>\n",
       "      <td>0</td>\n",
       "    </tr>\n",
       "    <tr>\n",
       "      <th>4</th>\n",
       "      <td>(봉화)지림사</td>\n",
       "      <td>0</td>\n",
       "    </tr>\n",
       "    <tr>\n",
       "      <th>5</th>\n",
       "      <td>(봉화)지림사</td>\n",
       "      <td>0</td>\n",
       "    </tr>\n",
       "    <tr>\n",
       "      <th>6</th>\n",
       "      <td>(봉화)지림사</td>\n",
       "      <td>0</td>\n",
       "    </tr>\n",
       "    <tr>\n",
       "      <th>7</th>\n",
       "      <td>(봉화)지림사</td>\n",
       "      <td>0</td>\n",
       "    </tr>\n",
       "    <tr>\n",
       "      <th>8</th>\n",
       "      <td>(봉화)계서당(성이성 생가)</td>\n",
       "      <td>0</td>\n",
       "    </tr>\n",
       "    <tr>\n",
       "      <th>9</th>\n",
       "      <td>(봉화)춘양목 송이마을</td>\n",
       "      <td>-2</td>\n",
       "    </tr>\n",
       "  </tbody>\n",
       "</table>\n",
       "</div>"
      ],
      "text/plain": [
       "                 0   1\n",
       "0     (봉화)춘양목 송이마을  -2\n",
       "1  (봉화)계서당(성이성 생가)   0\n",
       "2  (봉화)계서당(성이성 생가)   0\n",
       "3  (봉화)계서당(성이성 생가)   0\n",
       "4          (봉화)지림사   0\n",
       "5          (봉화)지림사   0\n",
       "6          (봉화)지림사   0\n",
       "7          (봉화)지림사   0\n",
       "8  (봉화)계서당(성이성 생가)   0\n",
       "9     (봉화)춘양목 송이마을  -2"
      ]
     },
     "execution_count": 118,
     "metadata": {},
     "output_type": "execute_result"
    }
   ],
   "source": [
    "tour_df2"
   ]
  },
  {
   "cell_type": "code",
   "execution_count": 119,
   "id": "f2737f23",
   "metadata": {},
   "outputs": [
    {
     "data": {
      "text/plain": [
       "[['(봉화)춘양목 송이마을', '-2'],\n",
       " ['(봉화)계서당(성이성 생가)', '0'],\n",
       " ['(봉화)계서당(성이성 생가)', '0'],\n",
       " ['(봉화)계서당(성이성 생가)', '0'],\n",
       " ['(봉화)지림사', '0'],\n",
       " ['(봉화)지림사', '0'],\n",
       " ['(봉화)지림사', '0'],\n",
       " ['(봉화)지림사', '0'],\n",
       " ['(봉화)계서당(성이성 생가)', '0'],\n",
       " ['(봉화)춘양목 송이마을', '-2']]"
      ]
     },
     "execution_count": 119,
     "metadata": {},
     "output_type": "execute_result"
    }
   ],
   "source": [
    "tour_List"
   ]
  },
  {
   "cell_type": "code",
   "execution_count": 96,
   "id": "aa1f71ad",
   "metadata": {},
   "outputs": [
    {
     "data": {
      "text/html": [
       "<div>\n",
       "<style scoped>\n",
       "    .dataframe tbody tr th:only-of-type {\n",
       "        vertical-align: middle;\n",
       "    }\n",
       "\n",
       "    .dataframe tbody tr th {\n",
       "        vertical-align: top;\n",
       "    }\n",
       "\n",
       "    .dataframe thead th {\n",
       "        text-align: right;\n",
       "    }\n",
       "</style>\n",
       "<table border=\"1\" class=\"dataframe\">\n",
       "  <thead>\n",
       "    <tr style=\"text-align: right;\">\n",
       "      <th></th>\n",
       "      <th>관광지명</th>\n",
       "      <th>일3시간 온도</th>\n",
       "    </tr>\n",
       "  </thead>\n",
       "  <tbody>\n",
       "    <tr>\n",
       "      <th>0</th>\n",
       "      <td>(봉화)춘양목 송이마을</td>\n",
       "      <td>-2</td>\n",
       "    </tr>\n",
       "    <tr>\n",
       "      <th>1</th>\n",
       "      <td>(봉화)계서당(성이성 생가)</td>\n",
       "      <td>0</td>\n",
       "    </tr>\n",
       "    <tr>\n",
       "      <th>2</th>\n",
       "      <td>(봉화)계서당(성이성 생가)</td>\n",
       "      <td>0</td>\n",
       "    </tr>\n",
       "    <tr>\n",
       "      <th>3</th>\n",
       "      <td>(봉화)계서당(성이성 생가)</td>\n",
       "      <td>0</td>\n",
       "    </tr>\n",
       "    <tr>\n",
       "      <th>4</th>\n",
       "      <td>(봉화)지림사</td>\n",
       "      <td>0</td>\n",
       "    </tr>\n",
       "    <tr>\n",
       "      <th>5</th>\n",
       "      <td>(봉화)지림사</td>\n",
       "      <td>0</td>\n",
       "    </tr>\n",
       "    <tr>\n",
       "      <th>6</th>\n",
       "      <td>(봉화)지림사</td>\n",
       "      <td>0</td>\n",
       "    </tr>\n",
       "    <tr>\n",
       "      <th>7</th>\n",
       "      <td>(봉화)지림사</td>\n",
       "      <td>0</td>\n",
       "    </tr>\n",
       "    <tr>\n",
       "      <th>8</th>\n",
       "      <td>(봉화)계서당(성이성 생가)</td>\n",
       "      <td>0</td>\n",
       "    </tr>\n",
       "    <tr>\n",
       "      <th>9</th>\n",
       "      <td>(봉화)춘양목 송이마을</td>\n",
       "      <td>-2</td>\n",
       "    </tr>\n",
       "  </tbody>\n",
       "</table>\n",
       "</div>"
      ],
      "text/plain": [
       "              관광지명 일3시간 온도\n",
       "0     (봉화)춘양목 송이마을      -2\n",
       "1  (봉화)계서당(성이성 생가)       0\n",
       "2  (봉화)계서당(성이성 생가)       0\n",
       "3  (봉화)계서당(성이성 생가)       0\n",
       "4          (봉화)지림사       0\n",
       "5          (봉화)지림사       0\n",
       "6          (봉화)지림사       0\n",
       "7          (봉화)지림사       0\n",
       "8  (봉화)계서당(성이성 생가)       0\n",
       "9     (봉화)춘양목 송이마을      -2"
      ]
     },
     "execution_count": 96,
     "metadata": {},
     "output_type": "execute_result"
    }
   ],
   "source": [
    "tour_df"
   ]
  },
  {
   "cell_type": "code",
   "execution_count": 97,
   "id": "60fd44c4",
   "metadata": {},
   "outputs": [],
   "source": [
    "tour_df.to_csv('tourWeather.csv', index=False, encoding='cp949')"
   ]
  },
  {
   "cell_type": "code",
   "execution_count": 98,
   "id": "d1ac2180",
   "metadata": {},
   "outputs": [
    {
     "name": "stdout",
     "output_type": "stream",
     "text": [
      "Requirement already satisfied: xmltodict in /Users/cmbae/opt/anaconda3/lib/python3.9/site-packages (0.12.0)\n",
      "Note: you may need to restart the kernel to use updated packages.\n"
     ]
    }
   ],
   "source": [
    "pip install xmltodict"
   ]
  },
  {
   "cell_type": "code",
   "execution_count": 99,
   "id": "196f3527",
   "metadata": {},
   "outputs": [],
   "source": [
    "import xmltodict"
   ]
  },
  {
   "cell_type": "code",
   "execution_count": 100,
   "id": "021428e5",
   "metadata": {},
   "outputs": [],
   "source": [
    "dt = xmltodict.parse(contents)"
   ]
  },
  {
   "cell_type": "code",
   "execution_count": 101,
   "id": "4f0255ee",
   "metadata": {},
   "outputs": [
    {
     "name": "stdout",
     "output_type": "stream",
     "text": [
      "OrderedDict([('response', OrderedDict([('header', OrderedDict([('resultCode', '00'), ('resultMsg', 'NORMAL_SERVICE')])), ('body', OrderedDict([('dataType', 'XML'), ('items', OrderedDict([('item', [OrderedDict([('tm', '2021-12-22 09:00'), ('thema', '문화/예술'), ('courseId', '1'), ('courseAreaId', '4700000000'), ('courseAreaName', '경상북도'), ('courseName', '남호고택에서의 하룻밤'), ('spotAreaId', '102'), ('spotAreaName', '봉화'), ('spotName', '(봉화)춘양목 송이마을'), ('th3', '-2'), ('wd', '45'), ('ws', '2'), ('sky', '1'), ('rhm', '80'), ('pop', '0')]), OrderedDict([('tm', '2021-12-22 09:00'), ('thema', '종교/역사/전통'), ('courseId', '1'), ('courseAreaId', '4700000000'), ('courseAreaName', '경상북도'), ('courseName', '남호고택에서의 하룻밤'), ('spotAreaId', '104'), ('spotAreaName', '봉화'), ('spotName', '(봉화)계서당(성이성 생가)'), ('th3', '0'), ('wd', '41'), ('ws', '2'), ('sky', '1'), ('rhm', '75'), ('pop', '0')]), OrderedDict([('tm', '2021-12-22 09:00'), ('thema', '자연/힐링'), ('courseId', '1'), ('courseAreaId', '4700000000'), ('courseAreaName', '경상북도'), ('courseName', '남호고택에서의 하룻밤'), ('spotAreaId', '104'), ('spotAreaName', '봉화'), ('spotName', '(봉화)계서당(성이성 생가)'), ('th3', '0'), ('wd', '41'), ('ws', '2'), ('sky', '1'), ('rhm', '75'), ('pop', '0')]), OrderedDict([('tm', '2021-12-22 09:00'), ('thema', '체험/학습/산업'), ('courseId', '1'), ('courseAreaId', '4700000000'), ('courseAreaName', '경상북도'), ('courseName', '남호고택에서의 하룻밤'), ('spotAreaId', '104'), ('spotAreaName', '봉화'), ('spotName', '(봉화)계서당(성이성 생가)'), ('th3', '0'), ('wd', '41'), ('ws', '2'), ('sky', '1'), ('rhm', '75'), ('pop', '0')]), OrderedDict([('tm', '2021-12-22 09:00'), ('thema', '문화/예술'), ('courseId', '1'), ('courseAreaId', '4700000000'), ('courseAreaName', '경상북도'), ('courseName', '남호고택에서의 하룻밤'), ('spotAreaId', '103'), ('spotAreaName', '봉화'), ('spotName', '(봉화)지림사'), ('th3', '0'), ('wd', '43'), ('ws', '2'), ('sky', '1'), ('rhm', '75'), ('pop', '0')]), OrderedDict([('tm', '2021-12-22 09:00'), ('thema', '종교/역사/전통'), ('courseId', '1'), ('courseAreaId', '4700000000'), ('courseAreaName', '경상북도'), ('courseName', '남호고택에서의 하룻밤'), ('spotAreaId', '103'), ('spotAreaName', '봉화'), ('spotName', '(봉화)지림사'), ('th3', '0'), ('wd', '43'), ('ws', '2'), ('sky', '1'), ('rhm', '75'), ('pop', '0')]), OrderedDict([('tm', '2021-12-22 09:00'), ('thema', '자연/힐링'), ('courseId', '1'), ('courseAreaId', '4700000000'), ('courseAreaName', '경상북도'), ('courseName', '남호고택에서의 하룻밤'), ('spotAreaId', '103'), ('spotAreaName', '봉화'), ('spotName', '(봉화)지림사'), ('th3', '0'), ('wd', '43'), ('ws', '2'), ('sky', '1'), ('rhm', '75'), ('pop', '0')]), OrderedDict([('tm', '2021-12-22 09:00'), ('thema', '체험/학습/산업'), ('courseId', '1'), ('courseAreaId', '4700000000'), ('courseAreaName', '경상북도'), ('courseName', '남호고택에서의 하룻밤'), ('spotAreaId', '103'), ('spotAreaName', '봉화'), ('spotName', '(봉화)지림사'), ('th3', '0'), ('wd', '43'), ('ws', '2'), ('sky', '1'), ('rhm', '75'), ('pop', '0')]), OrderedDict([('tm', '2021-12-22 09:00'), ('thema', '문화/예술'), ('courseId', '1'), ('courseAreaId', '4700000000'), ('courseAreaName', '경상북도'), ('courseName', '남호고택에서의 하룻밤'), ('spotAreaId', '104'), ('spotAreaName', '봉화'), ('spotName', '(봉화)계서당(성이성 생가)'), ('th3', '0'), ('wd', '41'), ('ws', '2'), ('sky', '1'), ('rhm', '75'), ('pop', '0')]), OrderedDict([('tm', '2021-12-22 09:00'), ('thema', '종교/역사/전통'), ('courseId', '1'), ('courseAreaId', '4700000000'), ('courseAreaName', '경상북도'), ('courseName', '남호고택에서의 하룻밤'), ('spotAreaId', '102'), ('spotAreaName', '봉화'), ('spotName', '(봉화)춘양목 송이마을'), ('th3', '-2'), ('wd', '45'), ('ws', '2'), ('sky', '1'), ('rhm', '80'), ('pop', '0')])])])), ('numOfRows', '10'), ('pageNo', '1'), ('totalCount', '256')]))]))])\n"
     ]
    }
   ],
   "source": [
    "print(dt)"
   ]
  },
  {
   "cell_type": "code",
   "execution_count": 102,
   "id": "b2d42988",
   "metadata": {},
   "outputs": [
    {
     "name": "stdout",
     "output_type": "stream",
     "text": [
      "OrderedDict([('item', [OrderedDict([('tm', '2021-12-22 09:00'), ('thema', '문화/예술'), ('courseId', '1'), ('courseAreaId', '4700000000'), ('courseAreaName', '경상북도'), ('courseName', '남호고택에서의 하룻밤'), ('spotAreaId', '102'), ('spotAreaName', '봉화'), ('spotName', '(봉화)춘양목 송이마을'), ('th3', '-2'), ('wd', '45'), ('ws', '2'), ('sky', '1'), ('rhm', '80'), ('pop', '0')]), OrderedDict([('tm', '2021-12-22 09:00'), ('thema', '종교/역사/전통'), ('courseId', '1'), ('courseAreaId', '4700000000'), ('courseAreaName', '경상북도'), ('courseName', '남호고택에서의 하룻밤'), ('spotAreaId', '104'), ('spotAreaName', '봉화'), ('spotName', '(봉화)계서당(성이성 생가)'), ('th3', '0'), ('wd', '41'), ('ws', '2'), ('sky', '1'), ('rhm', '75'), ('pop', '0')]), OrderedDict([('tm', '2021-12-22 09:00'), ('thema', '자연/힐링'), ('courseId', '1'), ('courseAreaId', '4700000000'), ('courseAreaName', '경상북도'), ('courseName', '남호고택에서의 하룻밤'), ('spotAreaId', '104'), ('spotAreaName', '봉화'), ('spotName', '(봉화)계서당(성이성 생가)'), ('th3', '0'), ('wd', '41'), ('ws', '2'), ('sky', '1'), ('rhm', '75'), ('pop', '0')]), OrderedDict([('tm', '2021-12-22 09:00'), ('thema', '체험/학습/산업'), ('courseId', '1'), ('courseAreaId', '4700000000'), ('courseAreaName', '경상북도'), ('courseName', '남호고택에서의 하룻밤'), ('spotAreaId', '104'), ('spotAreaName', '봉화'), ('spotName', '(봉화)계서당(성이성 생가)'), ('th3', '0'), ('wd', '41'), ('ws', '2'), ('sky', '1'), ('rhm', '75'), ('pop', '0')]), OrderedDict([('tm', '2021-12-22 09:00'), ('thema', '문화/예술'), ('courseId', '1'), ('courseAreaId', '4700000000'), ('courseAreaName', '경상북도'), ('courseName', '남호고택에서의 하룻밤'), ('spotAreaId', '103'), ('spotAreaName', '봉화'), ('spotName', '(봉화)지림사'), ('th3', '0'), ('wd', '43'), ('ws', '2'), ('sky', '1'), ('rhm', '75'), ('pop', '0')]), OrderedDict([('tm', '2021-12-22 09:00'), ('thema', '종교/역사/전통'), ('courseId', '1'), ('courseAreaId', '4700000000'), ('courseAreaName', '경상북도'), ('courseName', '남호고택에서의 하룻밤'), ('spotAreaId', '103'), ('spotAreaName', '봉화'), ('spotName', '(봉화)지림사'), ('th3', '0'), ('wd', '43'), ('ws', '2'), ('sky', '1'), ('rhm', '75'), ('pop', '0')]), OrderedDict([('tm', '2021-12-22 09:00'), ('thema', '자연/힐링'), ('courseId', '1'), ('courseAreaId', '4700000000'), ('courseAreaName', '경상북도'), ('courseName', '남호고택에서의 하룻밤'), ('spotAreaId', '103'), ('spotAreaName', '봉화'), ('spotName', '(봉화)지림사'), ('th3', '0'), ('wd', '43'), ('ws', '2'), ('sky', '1'), ('rhm', '75'), ('pop', '0')]), OrderedDict([('tm', '2021-12-22 09:00'), ('thema', '체험/학습/산업'), ('courseId', '1'), ('courseAreaId', '4700000000'), ('courseAreaName', '경상북도'), ('courseName', '남호고택에서의 하룻밤'), ('spotAreaId', '103'), ('spotAreaName', '봉화'), ('spotName', '(봉화)지림사'), ('th3', '0'), ('wd', '43'), ('ws', '2'), ('sky', '1'), ('rhm', '75'), ('pop', '0')]), OrderedDict([('tm', '2021-12-22 09:00'), ('thema', '문화/예술'), ('courseId', '1'), ('courseAreaId', '4700000000'), ('courseAreaName', '경상북도'), ('courseName', '남호고택에서의 하룻밤'), ('spotAreaId', '104'), ('spotAreaName', '봉화'), ('spotName', '(봉화)계서당(성이성 생가)'), ('th3', '0'), ('wd', '41'), ('ws', '2'), ('sky', '1'), ('rhm', '75'), ('pop', '0')]), OrderedDict([('tm', '2021-12-22 09:00'), ('thema', '종교/역사/전통'), ('courseId', '1'), ('courseAreaId', '4700000000'), ('courseAreaName', '경상북도'), ('courseName', '남호고택에서의 하룻밤'), ('spotAreaId', '102'), ('spotAreaName', '봉화'), ('spotName', '(봉화)춘양목 송이마을'), ('th3', '-2'), ('wd', '45'), ('ws', '2'), ('sky', '1'), ('rhm', '80'), ('pop', '0')])])])\n"
     ]
    }
   ],
   "source": [
    "print(dt['response']['body']['items'])"
   ]
  },
  {
   "cell_type": "code",
   "execution_count": 103,
   "id": "1e33b0b3",
   "metadata": {},
   "outputs": [],
   "source": [
    "import json"
   ]
  },
  {
   "cell_type": "code",
   "execution_count": 104,
   "id": "458110ae",
   "metadata": {},
   "outputs": [],
   "source": [
    "jsonString=json.dumps(dt['response']['body']['items'])"
   ]
  },
  {
   "cell_type": "code",
   "execution_count": 106,
   "id": "951a1774",
   "metadata": {},
   "outputs": [
    {
     "data": {
      "text/plain": [
       "'{\"item\": [{\"tm\": \"2021-12-22 09:00\", \"thema\": \"\\\\ubb38\\\\ud654/\\\\uc608\\\\uc220\", \"courseId\": \"1\", \"courseAreaId\": \"4700000000\", \"courseAreaName\": \"\\\\uacbd\\\\uc0c1\\\\ubd81\\\\ub3c4\", \"courseName\": \"\\\\ub0a8\\\\ud638\\\\uace0\\\\ud0dd\\\\uc5d0\\\\uc11c\\\\uc758 \\\\ud558\\\\ub8fb\\\\ubc24\", \"spotAreaId\": \"102\", \"spotAreaName\": \"\\\\ubd09\\\\ud654\", \"spotName\": \"(\\\\ubd09\\\\ud654)\\\\ucd98\\\\uc591\\\\ubaa9 \\\\uc1a1\\\\uc774\\\\ub9c8\\\\uc744\", \"th3\": \"-2\", \"wd\": \"45\", \"ws\": \"2\", \"sky\": \"1\", \"rhm\": \"80\", \"pop\": \"0\"}, {\"tm\": \"2021-12-22 09:00\", \"thema\": \"\\\\uc885\\\\uad50/\\\\uc5ed\\\\uc0ac/\\\\uc804\\\\ud1b5\", \"courseId\": \"1\", \"courseAreaId\": \"4700000000\", \"courseAreaName\": \"\\\\uacbd\\\\uc0c1\\\\ubd81\\\\ub3c4\", \"courseName\": \"\\\\ub0a8\\\\ud638\\\\uace0\\\\ud0dd\\\\uc5d0\\\\uc11c\\\\uc758 \\\\ud558\\\\ub8fb\\\\ubc24\", \"spotAreaId\": \"104\", \"spotAreaName\": \"\\\\ubd09\\\\ud654\", \"spotName\": \"(\\\\ubd09\\\\ud654)\\\\uacc4\\\\uc11c\\\\ub2f9(\\\\uc131\\\\uc774\\\\uc131 \\\\uc0dd\\\\uac00)\", \"th3\": \"0\", \"wd\": \"41\", \"ws\": \"2\", \"sky\": \"1\", \"rhm\": \"75\", \"pop\": \"0\"}, {\"tm\": \"2021-12-22 09:00\", \"thema\": \"\\\\uc790\\\\uc5f0/\\\\ud790\\\\ub9c1\", \"courseId\": \"1\", \"courseAreaId\": \"4700000000\", \"courseAreaName\": \"\\\\uacbd\\\\uc0c1\\\\ubd81\\\\ub3c4\", \"courseName\": \"\\\\ub0a8\\\\ud638\\\\uace0\\\\ud0dd\\\\uc5d0\\\\uc11c\\\\uc758 \\\\ud558\\\\ub8fb\\\\ubc24\", \"spotAreaId\": \"104\", \"spotAreaName\": \"\\\\ubd09\\\\ud654\", \"spotName\": \"(\\\\ubd09\\\\ud654)\\\\uacc4\\\\uc11c\\\\ub2f9(\\\\uc131\\\\uc774\\\\uc131 \\\\uc0dd\\\\uac00)\", \"th3\": \"0\", \"wd\": \"41\", \"ws\": \"2\", \"sky\": \"1\", \"rhm\": \"75\", \"pop\": \"0\"}, {\"tm\": \"2021-12-22 09:00\", \"thema\": \"\\\\uccb4\\\\ud5d8/\\\\ud559\\\\uc2b5/\\\\uc0b0\\\\uc5c5\", \"courseId\": \"1\", \"courseAreaId\": \"4700000000\", \"courseAreaName\": \"\\\\uacbd\\\\uc0c1\\\\ubd81\\\\ub3c4\", \"courseName\": \"\\\\ub0a8\\\\ud638\\\\uace0\\\\ud0dd\\\\uc5d0\\\\uc11c\\\\uc758 \\\\ud558\\\\ub8fb\\\\ubc24\", \"spotAreaId\": \"104\", \"spotAreaName\": \"\\\\ubd09\\\\ud654\", \"spotName\": \"(\\\\ubd09\\\\ud654)\\\\uacc4\\\\uc11c\\\\ub2f9(\\\\uc131\\\\uc774\\\\uc131 \\\\uc0dd\\\\uac00)\", \"th3\": \"0\", \"wd\": \"41\", \"ws\": \"2\", \"sky\": \"1\", \"rhm\": \"75\", \"pop\": \"0\"}, {\"tm\": \"2021-12-22 09:00\", \"thema\": \"\\\\ubb38\\\\ud654/\\\\uc608\\\\uc220\", \"courseId\": \"1\", \"courseAreaId\": \"4700000000\", \"courseAreaName\": \"\\\\uacbd\\\\uc0c1\\\\ubd81\\\\ub3c4\", \"courseName\": \"\\\\ub0a8\\\\ud638\\\\uace0\\\\ud0dd\\\\uc5d0\\\\uc11c\\\\uc758 \\\\ud558\\\\ub8fb\\\\ubc24\", \"spotAreaId\": \"103\", \"spotAreaName\": \"\\\\ubd09\\\\ud654\", \"spotName\": \"(\\\\ubd09\\\\ud654)\\\\uc9c0\\\\ub9bc\\\\uc0ac\", \"th3\": \"0\", \"wd\": \"43\", \"ws\": \"2\", \"sky\": \"1\", \"rhm\": \"75\", \"pop\": \"0\"}, {\"tm\": \"2021-12-22 09:00\", \"thema\": \"\\\\uc885\\\\uad50/\\\\uc5ed\\\\uc0ac/\\\\uc804\\\\ud1b5\", \"courseId\": \"1\", \"courseAreaId\": \"4700000000\", \"courseAreaName\": \"\\\\uacbd\\\\uc0c1\\\\ubd81\\\\ub3c4\", \"courseName\": \"\\\\ub0a8\\\\ud638\\\\uace0\\\\ud0dd\\\\uc5d0\\\\uc11c\\\\uc758 \\\\ud558\\\\ub8fb\\\\ubc24\", \"spotAreaId\": \"103\", \"spotAreaName\": \"\\\\ubd09\\\\ud654\", \"spotName\": \"(\\\\ubd09\\\\ud654)\\\\uc9c0\\\\ub9bc\\\\uc0ac\", \"th3\": \"0\", \"wd\": \"43\", \"ws\": \"2\", \"sky\": \"1\", \"rhm\": \"75\", \"pop\": \"0\"}, {\"tm\": \"2021-12-22 09:00\", \"thema\": \"\\\\uc790\\\\uc5f0/\\\\ud790\\\\ub9c1\", \"courseId\": \"1\", \"courseAreaId\": \"4700000000\", \"courseAreaName\": \"\\\\uacbd\\\\uc0c1\\\\ubd81\\\\ub3c4\", \"courseName\": \"\\\\ub0a8\\\\ud638\\\\uace0\\\\ud0dd\\\\uc5d0\\\\uc11c\\\\uc758 \\\\ud558\\\\ub8fb\\\\ubc24\", \"spotAreaId\": \"103\", \"spotAreaName\": \"\\\\ubd09\\\\ud654\", \"spotName\": \"(\\\\ubd09\\\\ud654)\\\\uc9c0\\\\ub9bc\\\\uc0ac\", \"th3\": \"0\", \"wd\": \"43\", \"ws\": \"2\", \"sky\": \"1\", \"rhm\": \"75\", \"pop\": \"0\"}, {\"tm\": \"2021-12-22 09:00\", \"thema\": \"\\\\uccb4\\\\ud5d8/\\\\ud559\\\\uc2b5/\\\\uc0b0\\\\uc5c5\", \"courseId\": \"1\", \"courseAreaId\": \"4700000000\", \"courseAreaName\": \"\\\\uacbd\\\\uc0c1\\\\ubd81\\\\ub3c4\", \"courseName\": \"\\\\ub0a8\\\\ud638\\\\uace0\\\\ud0dd\\\\uc5d0\\\\uc11c\\\\uc758 \\\\ud558\\\\ub8fb\\\\ubc24\", \"spotAreaId\": \"103\", \"spotAreaName\": \"\\\\ubd09\\\\ud654\", \"spotName\": \"(\\\\ubd09\\\\ud654)\\\\uc9c0\\\\ub9bc\\\\uc0ac\", \"th3\": \"0\", \"wd\": \"43\", \"ws\": \"2\", \"sky\": \"1\", \"rhm\": \"75\", \"pop\": \"0\"}, {\"tm\": \"2021-12-22 09:00\", \"thema\": \"\\\\ubb38\\\\ud654/\\\\uc608\\\\uc220\", \"courseId\": \"1\", \"courseAreaId\": \"4700000000\", \"courseAreaName\": \"\\\\uacbd\\\\uc0c1\\\\ubd81\\\\ub3c4\", \"courseName\": \"\\\\ub0a8\\\\ud638\\\\uace0\\\\ud0dd\\\\uc5d0\\\\uc11c\\\\uc758 \\\\ud558\\\\ub8fb\\\\ubc24\", \"spotAreaId\": \"104\", \"spotAreaName\": \"\\\\ubd09\\\\ud654\", \"spotName\": \"(\\\\ubd09\\\\ud654)\\\\uacc4\\\\uc11c\\\\ub2f9(\\\\uc131\\\\uc774\\\\uc131 \\\\uc0dd\\\\uac00)\", \"th3\": \"0\", \"wd\": \"41\", \"ws\": \"2\", \"sky\": \"1\", \"rhm\": \"75\", \"pop\": \"0\"}, {\"tm\": \"2021-12-22 09:00\", \"thema\": \"\\\\uc885\\\\uad50/\\\\uc5ed\\\\uc0ac/\\\\uc804\\\\ud1b5\", \"courseId\": \"1\", \"courseAreaId\": \"4700000000\", \"courseAreaName\": \"\\\\uacbd\\\\uc0c1\\\\ubd81\\\\ub3c4\", \"courseName\": \"\\\\ub0a8\\\\ud638\\\\uace0\\\\ud0dd\\\\uc5d0\\\\uc11c\\\\uc758 \\\\ud558\\\\ub8fb\\\\ubc24\", \"spotAreaId\": \"102\", \"spotAreaName\": \"\\\\ubd09\\\\ud654\", \"spotName\": \"(\\\\ubd09\\\\ud654)\\\\ucd98\\\\uc591\\\\ubaa9 \\\\uc1a1\\\\uc774\\\\ub9c8\\\\uc744\", \"th3\": \"-2\", \"wd\": \"45\", \"ws\": \"2\", \"sky\": \"1\", \"rhm\": \"80\", \"pop\": \"0\"}]}'"
      ]
     },
     "execution_count": 106,
     "metadata": {},
     "output_type": "execute_result"
    }
   ],
   "source": [
    "jsonString"
   ]
  },
  {
   "cell_type": "code",
   "execution_count": null,
   "id": "7b7b8220",
   "metadata": {},
   "outputs": [],
   "source": []
  },
  {
   "cell_type": "code",
   "execution_count": 107,
   "id": "0ad2a74b",
   "metadata": {},
   "outputs": [],
   "source": [
    "# 관광지명과 일 3시간 온도의 시각화"
   ]
  },
  {
   "cell_type": "code",
   "execution_count": 108,
   "id": "ec162f8e",
   "metadata": {},
   "outputs": [],
   "source": [
    "import matplotlib.pyplot as plt"
   ]
  },
  {
   "cell_type": "code",
   "execution_count": 109,
   "id": "342e7227",
   "metadata": {},
   "outputs": [],
   "source": [
    "tour_weather = pd.read_csv('tourWeather.csv', encoding='cp949')"
   ]
  },
  {
   "cell_type": "code",
   "execution_count": 116,
   "id": "f4dfa382",
   "metadata": {},
   "outputs": [
    {
     "data": {
      "text/html": [
       "<div>\n",
       "<style scoped>\n",
       "    .dataframe tbody tr th:only-of-type {\n",
       "        vertical-align: middle;\n",
       "    }\n",
       "\n",
       "    .dataframe tbody tr th {\n",
       "        vertical-align: top;\n",
       "    }\n",
       "\n",
       "    .dataframe thead th {\n",
       "        text-align: right;\n",
       "    }\n",
       "</style>\n",
       "<table border=\"1\" class=\"dataframe\">\n",
       "  <thead>\n",
       "    <tr style=\"text-align: right;\">\n",
       "      <th></th>\n",
       "      <th>관광지명</th>\n",
       "      <th>일3시간 온도</th>\n",
       "    </tr>\n",
       "  </thead>\n",
       "  <tbody>\n",
       "    <tr>\n",
       "      <th>0</th>\n",
       "      <td>(봉화)춘양목 송이마을</td>\n",
       "      <td>-2</td>\n",
       "    </tr>\n",
       "    <tr>\n",
       "      <th>1</th>\n",
       "      <td>(봉화)계서당(성이성 생가)</td>\n",
       "      <td>0</td>\n",
       "    </tr>\n",
       "    <tr>\n",
       "      <th>2</th>\n",
       "      <td>(봉화)계서당(성이성 생가)</td>\n",
       "      <td>0</td>\n",
       "    </tr>\n",
       "    <tr>\n",
       "      <th>3</th>\n",
       "      <td>(봉화)계서당(성이성 생가)</td>\n",
       "      <td>0</td>\n",
       "    </tr>\n",
       "    <tr>\n",
       "      <th>4</th>\n",
       "      <td>(봉화)지림사</td>\n",
       "      <td>0</td>\n",
       "    </tr>\n",
       "    <tr>\n",
       "      <th>5</th>\n",
       "      <td>(봉화)지림사</td>\n",
       "      <td>0</td>\n",
       "    </tr>\n",
       "    <tr>\n",
       "      <th>6</th>\n",
       "      <td>(봉화)지림사</td>\n",
       "      <td>0</td>\n",
       "    </tr>\n",
       "    <tr>\n",
       "      <th>7</th>\n",
       "      <td>(봉화)지림사</td>\n",
       "      <td>0</td>\n",
       "    </tr>\n",
       "    <tr>\n",
       "      <th>8</th>\n",
       "      <td>(봉화)계서당(성이성 생가)</td>\n",
       "      <td>0</td>\n",
       "    </tr>\n",
       "    <tr>\n",
       "      <th>9</th>\n",
       "      <td>(봉화)춘양목 송이마을</td>\n",
       "      <td>-2</td>\n",
       "    </tr>\n",
       "  </tbody>\n",
       "</table>\n",
       "</div>"
      ],
      "text/plain": [
       "              관광지명  일3시간 온도\n",
       "0     (봉화)춘양목 송이마을       -2\n",
       "1  (봉화)계서당(성이성 생가)        0\n",
       "2  (봉화)계서당(성이성 생가)        0\n",
       "3  (봉화)계서당(성이성 생가)        0\n",
       "4          (봉화)지림사        0\n",
       "5          (봉화)지림사        0\n",
       "6          (봉화)지림사        0\n",
       "7          (봉화)지림사        0\n",
       "8  (봉화)계서당(성이성 생가)        0\n",
       "9     (봉화)춘양목 송이마을       -2"
      ]
     },
     "execution_count": 116,
     "metadata": {},
     "output_type": "execute_result"
    }
   ],
   "source": [
    "tour_weather"
   ]
  },
  {
   "cell_type": "code",
   "execution_count": 115,
   "id": "3d054241",
   "metadata": {},
   "outputs": [
    {
     "ename": "KeyError",
     "evalue": "Index(['spotName'], dtype='object')",
     "output_type": "error",
     "traceback": [
      "\u001b[0;31m---------------------------------------------------------------------------\u001b[0m",
      "\u001b[0;31mKeyError\u001b[0m                                  Traceback (most recent call last)",
      "\u001b[0;32m/var/folders/6y/n8qv2bvx18vb02flsjgs1y7w0000gn/T/ipykernel_27064/3680061544.py\u001b[0m in \u001b[0;36m<module>\u001b[0;34m\u001b[0m\n\u001b[0;32m----> 1\u001b[0;31m \u001b[0mtour\u001b[0m \u001b[0;34m=\u001b[0m \u001b[0mtour_weather\u001b[0m\u001b[0;34m.\u001b[0m\u001b[0mdrop_duplicates\u001b[0m\u001b[0;34m(\u001b[0m\u001b[0;34m[\u001b[0m\u001b[0;34m'spotName'\u001b[0m\u001b[0;34m]\u001b[0m\u001b[0;34m,\u001b[0m \u001b[0mignore_index\u001b[0m\u001b[0;34m=\u001b[0m\u001b[0;32mTrue\u001b[0m\u001b[0;34m)\u001b[0m\u001b[0;34m\u001b[0m\u001b[0;34m\u001b[0m\u001b[0m\n\u001b[0m",
      "\u001b[0;32m~/opt/anaconda3/lib/python3.9/site-packages/pandas/util/_decorators.py\u001b[0m in \u001b[0;36mwrapper\u001b[0;34m(*args, **kwargs)\u001b[0m\n\u001b[1;32m    309\u001b[0m                     \u001b[0mstacklevel\u001b[0m\u001b[0;34m=\u001b[0m\u001b[0mstacklevel\u001b[0m\u001b[0;34m,\u001b[0m\u001b[0;34m\u001b[0m\u001b[0;34m\u001b[0m\u001b[0m\n\u001b[1;32m    310\u001b[0m                 )\n\u001b[0;32m--> 311\u001b[0;31m             \u001b[0;32mreturn\u001b[0m \u001b[0mfunc\u001b[0m\u001b[0;34m(\u001b[0m\u001b[0;34m*\u001b[0m\u001b[0margs\u001b[0m\u001b[0;34m,\u001b[0m \u001b[0;34m**\u001b[0m\u001b[0mkwargs\u001b[0m\u001b[0;34m)\u001b[0m\u001b[0;34m\u001b[0m\u001b[0;34m\u001b[0m\u001b[0m\n\u001b[0m\u001b[1;32m    312\u001b[0m \u001b[0;34m\u001b[0m\u001b[0m\n\u001b[1;32m    313\u001b[0m         \u001b[0;32mreturn\u001b[0m \u001b[0mwrapper\u001b[0m\u001b[0;34m\u001b[0m\u001b[0;34m\u001b[0m\u001b[0m\n",
      "\u001b[0;32m~/opt/anaconda3/lib/python3.9/site-packages/pandas/core/frame.py\u001b[0m in \u001b[0;36mdrop_duplicates\u001b[0;34m(self, subset, keep, inplace, ignore_index)\u001b[0m\n\u001b[1;32m   6061\u001b[0m         \u001b[0minplace\u001b[0m \u001b[0;34m=\u001b[0m \u001b[0mvalidate_bool_kwarg\u001b[0m\u001b[0;34m(\u001b[0m\u001b[0minplace\u001b[0m\u001b[0;34m,\u001b[0m \u001b[0;34m\"inplace\"\u001b[0m\u001b[0;34m)\u001b[0m\u001b[0;34m\u001b[0m\u001b[0;34m\u001b[0m\u001b[0m\n\u001b[1;32m   6062\u001b[0m         \u001b[0mignore_index\u001b[0m \u001b[0;34m=\u001b[0m \u001b[0mvalidate_bool_kwarg\u001b[0m\u001b[0;34m(\u001b[0m\u001b[0mignore_index\u001b[0m\u001b[0;34m,\u001b[0m \u001b[0;34m\"ignore_index\"\u001b[0m\u001b[0;34m)\u001b[0m\u001b[0;34m\u001b[0m\u001b[0;34m\u001b[0m\u001b[0m\n\u001b[0;32m-> 6063\u001b[0;31m         \u001b[0mduplicated\u001b[0m \u001b[0;34m=\u001b[0m \u001b[0mself\u001b[0m\u001b[0;34m.\u001b[0m\u001b[0mduplicated\u001b[0m\u001b[0;34m(\u001b[0m\u001b[0msubset\u001b[0m\u001b[0;34m,\u001b[0m \u001b[0mkeep\u001b[0m\u001b[0;34m=\u001b[0m\u001b[0mkeep\u001b[0m\u001b[0;34m)\u001b[0m\u001b[0;34m\u001b[0m\u001b[0;34m\u001b[0m\u001b[0m\n\u001b[0m\u001b[1;32m   6064\u001b[0m \u001b[0;34m\u001b[0m\u001b[0m\n\u001b[1;32m   6065\u001b[0m         \u001b[0mresult\u001b[0m \u001b[0;34m=\u001b[0m \u001b[0mself\u001b[0m\u001b[0;34m[\u001b[0m\u001b[0;34m-\u001b[0m\u001b[0mduplicated\u001b[0m\u001b[0;34m]\u001b[0m\u001b[0;34m\u001b[0m\u001b[0;34m\u001b[0m\u001b[0m\n",
      "\u001b[0;32m~/opt/anaconda3/lib/python3.9/site-packages/pandas/core/frame.py\u001b[0m in \u001b[0;36mduplicated\u001b[0;34m(self, subset, keep)\u001b[0m\n\u001b[1;32m   6195\u001b[0m         \u001b[0mdiff\u001b[0m \u001b[0;34m=\u001b[0m \u001b[0mIndex\u001b[0m\u001b[0;34m(\u001b[0m\u001b[0msubset\u001b[0m\u001b[0;34m)\u001b[0m\u001b[0;34m.\u001b[0m\u001b[0mdifference\u001b[0m\u001b[0;34m(\u001b[0m\u001b[0mself\u001b[0m\u001b[0;34m.\u001b[0m\u001b[0mcolumns\u001b[0m\u001b[0;34m)\u001b[0m\u001b[0;34m\u001b[0m\u001b[0;34m\u001b[0m\u001b[0m\n\u001b[1;32m   6196\u001b[0m         \u001b[0;32mif\u001b[0m \u001b[0;32mnot\u001b[0m \u001b[0mdiff\u001b[0m\u001b[0;34m.\u001b[0m\u001b[0mempty\u001b[0m\u001b[0;34m:\u001b[0m\u001b[0;34m\u001b[0m\u001b[0;34m\u001b[0m\u001b[0m\n\u001b[0;32m-> 6197\u001b[0;31m             \u001b[0;32mraise\u001b[0m \u001b[0mKeyError\u001b[0m\u001b[0;34m(\u001b[0m\u001b[0mdiff\u001b[0m\u001b[0;34m)\u001b[0m\u001b[0;34m\u001b[0m\u001b[0;34m\u001b[0m\u001b[0m\n\u001b[0m\u001b[1;32m   6198\u001b[0m \u001b[0;34m\u001b[0m\u001b[0m\n\u001b[1;32m   6199\u001b[0m         \u001b[0mvals\u001b[0m \u001b[0;34m=\u001b[0m \u001b[0;34m(\u001b[0m\u001b[0mcol\u001b[0m\u001b[0;34m.\u001b[0m\u001b[0mvalues\u001b[0m \u001b[0;32mfor\u001b[0m \u001b[0mname\u001b[0m\u001b[0;34m,\u001b[0m \u001b[0mcol\u001b[0m \u001b[0;32min\u001b[0m \u001b[0mself\u001b[0m\u001b[0;34m.\u001b[0m\u001b[0mitems\u001b[0m\u001b[0;34m(\u001b[0m\u001b[0;34m)\u001b[0m \u001b[0;32mif\u001b[0m \u001b[0mname\u001b[0m \u001b[0;32min\u001b[0m \u001b[0msubset\u001b[0m\u001b[0;34m)\u001b[0m\u001b[0;34m\u001b[0m\u001b[0;34m\u001b[0m\u001b[0m\n",
      "\u001b[0;31mKeyError\u001b[0m: Index(['spotName'], dtype='object')"
     ]
    }
   ],
   "source": [
    "tour = tour_weather.drop_duplicates(['spotName'], ignore_index=True)"
   ]
  },
  {
   "cell_type": "code",
   "execution_count": 120,
   "id": "a8da27b8",
   "metadata": {},
   "outputs": [
    {
     "data": {
      "text/html": [
       "<div>\n",
       "<style scoped>\n",
       "    .dataframe tbody tr th:only-of-type {\n",
       "        vertical-align: middle;\n",
       "    }\n",
       "\n",
       "    .dataframe tbody tr th {\n",
       "        vertical-align: top;\n",
       "    }\n",
       "\n",
       "    .dataframe thead th {\n",
       "        text-align: right;\n",
       "    }\n",
       "</style>\n",
       "<table border=\"1\" class=\"dataframe\">\n",
       "  <thead>\n",
       "    <tr style=\"text-align: right;\">\n",
       "      <th></th>\n",
       "      <th>관광지명</th>\n",
       "      <th>일3시간 온도</th>\n",
       "    </tr>\n",
       "  </thead>\n",
       "  <tbody>\n",
       "    <tr>\n",
       "      <th>0</th>\n",
       "      <td>(봉화)춘양목 송이마을</td>\n",
       "      <td>-2</td>\n",
       "    </tr>\n",
       "    <tr>\n",
       "      <th>1</th>\n",
       "      <td>(봉화)계서당(성이성 생가)</td>\n",
       "      <td>0</td>\n",
       "    </tr>\n",
       "    <tr>\n",
       "      <th>2</th>\n",
       "      <td>(봉화)계서당(성이성 생가)</td>\n",
       "      <td>0</td>\n",
       "    </tr>\n",
       "    <tr>\n",
       "      <th>3</th>\n",
       "      <td>(봉화)계서당(성이성 생가)</td>\n",
       "      <td>0</td>\n",
       "    </tr>\n",
       "    <tr>\n",
       "      <th>4</th>\n",
       "      <td>(봉화)지림사</td>\n",
       "      <td>0</td>\n",
       "    </tr>\n",
       "    <tr>\n",
       "      <th>5</th>\n",
       "      <td>(봉화)지림사</td>\n",
       "      <td>0</td>\n",
       "    </tr>\n",
       "    <tr>\n",
       "      <th>6</th>\n",
       "      <td>(봉화)지림사</td>\n",
       "      <td>0</td>\n",
       "    </tr>\n",
       "    <tr>\n",
       "      <th>7</th>\n",
       "      <td>(봉화)지림사</td>\n",
       "      <td>0</td>\n",
       "    </tr>\n",
       "    <tr>\n",
       "      <th>8</th>\n",
       "      <td>(봉화)계서당(성이성 생가)</td>\n",
       "      <td>0</td>\n",
       "    </tr>\n",
       "    <tr>\n",
       "      <th>9</th>\n",
       "      <td>(봉화)춘양목 송이마을</td>\n",
       "      <td>-2</td>\n",
       "    </tr>\n",
       "  </tbody>\n",
       "</table>\n",
       "</div>"
      ],
      "text/plain": [
       "              관광지명  일3시간 온도\n",
       "0     (봉화)춘양목 송이마을       -2\n",
       "1  (봉화)계서당(성이성 생가)        0\n",
       "2  (봉화)계서당(성이성 생가)        0\n",
       "3  (봉화)계서당(성이성 생가)        0\n",
       "4          (봉화)지림사        0\n",
       "5          (봉화)지림사        0\n",
       "6          (봉화)지림사        0\n",
       "7          (봉화)지림사        0\n",
       "8  (봉화)계서당(성이성 생가)        0\n",
       "9     (봉화)춘양목 송이마을       -2"
      ]
     },
     "execution_count": 120,
     "metadata": {},
     "output_type": "execute_result"
    }
   ],
   "source": [
    "tour_weather"
   ]
  },
  {
   "cell_type": "code",
   "execution_count": 121,
   "id": "18195b00",
   "metadata": {},
   "outputs": [
    {
     "data": {
      "text/plain": [
       "<AxesSubplot:>"
      ]
     },
     "execution_count": 121,
     "metadata": {},
     "output_type": "execute_result"
    },
    {
     "name": "stderr",
     "output_type": "stream",
     "text": [
      "/Users/cmbae/opt/anaconda3/lib/python3.9/site-packages/matplotlib/backends/backend_agg.py:240: RuntimeWarning: Glyph 51068 missing from current font.\n",
      "  font.set_text(s, 0.0, flags=flags)\n",
      "/Users/cmbae/opt/anaconda3/lib/python3.9/site-packages/matplotlib/backends/backend_agg.py:240: RuntimeWarning: Glyph 49884 missing from current font.\n",
      "  font.set_text(s, 0.0, flags=flags)\n",
      "/Users/cmbae/opt/anaconda3/lib/python3.9/site-packages/matplotlib/backends/backend_agg.py:240: RuntimeWarning: Glyph 44036 missing from current font.\n",
      "  font.set_text(s, 0.0, flags=flags)\n",
      "/Users/cmbae/opt/anaconda3/lib/python3.9/site-packages/matplotlib/backends/backend_agg.py:240: RuntimeWarning: Glyph 50728 missing from current font.\n",
      "  font.set_text(s, 0.0, flags=flags)\n",
      "/Users/cmbae/opt/anaconda3/lib/python3.9/site-packages/matplotlib/backends/backend_agg.py:240: RuntimeWarning: Glyph 46020 missing from current font.\n",
      "  font.set_text(s, 0.0, flags=flags)\n",
      "/Users/cmbae/opt/anaconda3/lib/python3.9/site-packages/matplotlib/backends/backend_agg.py:203: RuntimeWarning: Glyph 51068 missing from current font.\n",
      "  font.set_text(s, 0, flags=flags)\n",
      "/Users/cmbae/opt/anaconda3/lib/python3.9/site-packages/matplotlib/backends/backend_agg.py:203: RuntimeWarning: Glyph 49884 missing from current font.\n",
      "  font.set_text(s, 0, flags=flags)\n",
      "/Users/cmbae/opt/anaconda3/lib/python3.9/site-packages/matplotlib/backends/backend_agg.py:203: RuntimeWarning: Glyph 44036 missing from current font.\n",
      "  font.set_text(s, 0, flags=flags)\n",
      "/Users/cmbae/opt/anaconda3/lib/python3.9/site-packages/matplotlib/backends/backend_agg.py:203: RuntimeWarning: Glyph 50728 missing from current font.\n",
      "  font.set_text(s, 0, flags=flags)\n",
      "/Users/cmbae/opt/anaconda3/lib/python3.9/site-packages/matplotlib/backends/backend_agg.py:203: RuntimeWarning: Glyph 46020 missing from current font.\n",
      "  font.set_text(s, 0, flags=flags)\n"
     ]
    },
    {
     "data": {
      "image/png": "[encoded data removed]",
      "text/plain": [
       "<Figure size 432x288 with 1 Axes>"
      ]
     },
     "metadata": {
      "needs_background": "light"
     },
     "output_type": "display_data"
    }
   ],
   "source": [
    "tour_weather.plot(kind='bar')"
   ]
  },
  {
   "cell_type": "code",
   "execution_count": 122,
   "id": "17230b6f",
   "metadata": {},
   "outputs": [
    {
     "data": {
      "text/plain": [
       "<AxesSubplot:>"
      ]
     },
     "execution_count": 122,
     "metadata": {},
     "output_type": "execute_result"
    },
    {
     "name": "stderr",
     "output_type": "stream",
     "text": [
      "/Users/cmbae/opt/anaconda3/lib/python3.9/site-packages/matplotlib/backends/backend_agg.py:240: RuntimeWarning: Glyph 51068 missing from current font.\n",
      "  font.set_text(s, 0.0, flags=flags)\n",
      "/Users/cmbae/opt/anaconda3/lib/python3.9/site-packages/matplotlib/backends/backend_agg.py:240: RuntimeWarning: Glyph 49884 missing from current font.\n",
      "  font.set_text(s, 0.0, flags=flags)\n",
      "/Users/cmbae/opt/anaconda3/lib/python3.9/site-packages/matplotlib/backends/backend_agg.py:240: RuntimeWarning: Glyph 44036 missing from current font.\n",
      "  font.set_text(s, 0.0, flags=flags)\n",
      "/Users/cmbae/opt/anaconda3/lib/python3.9/site-packages/matplotlib/backends/backend_agg.py:240: RuntimeWarning: Glyph 50728 missing from current font.\n",
      "  font.set_text(s, 0.0, flags=flags)\n",
      "/Users/cmbae/opt/anaconda3/lib/python3.9/site-packages/matplotlib/backends/backend_agg.py:240: RuntimeWarning: Glyph 46020 missing from current font.\n",
      "  font.set_text(s, 0.0, flags=flags)\n",
      "/Users/cmbae/opt/anaconda3/lib/python3.9/site-packages/matplotlib/backends/backend_agg.py:203: RuntimeWarning: Glyph 51068 missing from current font.\n",
      "  font.set_text(s, 0, flags=flags)\n",
      "/Users/cmbae/opt/anaconda3/lib/python3.9/site-packages/matplotlib/backends/backend_agg.py:203: RuntimeWarning: Glyph 49884 missing from current font.\n",
      "  font.set_text(s, 0, flags=flags)\n",
      "/Users/cmbae/opt/anaconda3/lib/python3.9/site-packages/matplotlib/backends/backend_agg.py:203: RuntimeWarning: Glyph 44036 missing from current font.\n",
      "  font.set_text(s, 0, flags=flags)\n",
      "/Users/cmbae/opt/anaconda3/lib/python3.9/site-packages/matplotlib/backends/backend_agg.py:203: RuntimeWarning: Glyph 50728 missing from current font.\n",
      "  font.set_text(s, 0, flags=flags)\n",
      "/Users/cmbae/opt/anaconda3/lib/python3.9/site-packages/matplotlib/backends/backend_agg.py:203: RuntimeWarning: Glyph 46020 missing from current font.\n",
      "  font.set_text(s, 0, flags=flags)\n"
     ]
    },
    {
     "data": {
      "image/png": "[encoded data removed]",
      "text/plain": [
       "<Figure size 432x288 with 1 Axes>"
      ]
     },
     "metadata": {
      "needs_background": "light"
     },
     "output_type": "display_data"
    }
   ],
   "source": [
    "tour_weather.plot(kind='line')"
   ]
  },
  {
   "cell_type": "code",
   "execution_count": null,
   "id": "af25117b",
   "metadata": {},
   "outputs": [],
   "source": []
  }
 ],
 "metadata": {
  "kernelspec": {
   "display_name": "Python 3 (ipykernel)",
   "language": "python",
   "name": "python3"
  },
  "language_info": {
   "codemirror_mode": {
    "name": "ipython",
    "version": 3
   },
   "file_extension": ".py",
   "mimetype": "text/x-python",
   "name": "python",
   "nbconvert_exporter": "python",
   "pygments_lexer": "ipython3",
   "version": "3.9.7"
  }
 },
 "nbformat": 4,
 "nbformat_minor": 5
}
